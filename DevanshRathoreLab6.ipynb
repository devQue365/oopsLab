{
 "cells": [
  {
   "cell_type": "code",
   "execution_count": 1,
   "id": "43b0e578-34aa-43aa-8481-8ca3115a07c3",
   "metadata": {},
   "outputs": [
    {
     "name": "stdin",
     "output_type": "stream",
     "text": [
      "Enter first list :  [1,2,3,4]\n",
      "Enter second list :  [1,2,3,4]\n"
     ]
    },
    {
     "name": "stdout",
     "output_type": "stream",
     "text": [
      "The resultant is [2, 4, 6, 8]\n"
     ]
    }
   ],
   "source": [
    "#__main__ segment\n",
    "'Menu'\n",
    "print(1.A\n",
    "l1 = eval(input('Enter list : '))\n"
   ]
  },
  {
   "cell_type": "code",
   "execution_count": null,
   "id": "35ddd585-6aad-427f-a34e-dba01b41a971",
   "metadata": {},
   "outputs": [],
   "source": [
    "def addLists(l1,l2):\n",
    "    res_list = list(map(lambda x,y:x+y,l1,l2))\n",
    "    return res_list\n",
    "if(__name__ == '__main__'):\n",
    "    l1 = eval(input('Enter first list : '))\n",
    "    l2 = eval(input('Enter second list : '))\n",
    "    print(f'The resultant is {addLists(l1,l2)}')"
   ]
  },
  {
   "cell_type": "code",
   "execution_count": 7,
   "id": "09580b03-407f-4312-97e3-93251c78d1a2",
   "metadata": {},
   "outputs": [
    {
     "name": "stdin",
     "output_type": "stream",
     "text": [
      "Enter a string :  aB@1_\n"
     ]
    },
    {
     "name": "stdout",
     "output_type": "stream",
     "text": [
      "Total uppercased letters : 1\n",
      "Total lowercased letters : 1\n"
     ]
    }
   ],
   "source": [
    "def getUpperLower(arg_str):\n",
    "    upper, lower = 0,0\n",
    "    for i in arg_str:\n",
    "        if(i.isupper()):\n",
    "            upper+=1\n",
    "        elif(i.islower()):\n",
    "            lower+=1\n",
    "    return (upper,lower)\n",
    "#__main__ segment\n",
    "if(__name__=='__main__'):\n",
    "    my_str = input('Enter a string : ')\n",
    "    upper_count,lower_count = getUpperLower(my_str)\n",
    "    print(f'Total uppercased letters : {upper_count}')\n",
    "    print(f'Total lowercased letters : {lower_count}')\n",
    "    "
   ]
  },
  {
   "cell_type": "code",
   "execution_count": 17,
   "id": "e757c89f-f936-4882-950d-f38fe06c623c",
   "metadata": {},
   "outputs": [
    {
     "name": "stdin",
     "output_type": "stream",
     "text": [
      "Enter two numbers :  10 21\n"
     ]
    },
    {
     "name": "stdout",
     "output_type": "stream",
     "text": [
      "The gcd of 10 and 21 is 1\n"
     ]
    }
   ],
   "source": [
    "def gcd(a,b):\n",
    "    if(b==0):\n",
    "        return a\n",
    "    else:\n",
    "        return gcd(b,a%b)\n",
    "#__main__ segment\n",
    "a,b = list(map(int,input('Enter two numbers : ').split(' ',2)))\n",
    "print(f'The gcd of {a} and {b} is {gcd(a,b)}')"
   ]
  },
  {
   "cell_type": "code",
   "execution_count": null,
   "id": "0779e7cd-9f90-42b7-952c-96d92fe8cb4a",
   "metadata": {},
   "outputs": [],
   "source": []
  }
 ],
 "metadata": {
  "kernelspec": {
   "display_name": "Python 3 (ipykernel)",
   "language": "python",
   "name": "python3"
  },
  "language_info": {
   "codemirror_mode": {
    "name": "ipython",
    "version": 3
   },
   "file_extension": ".py",
   "mimetype": "text/x-python",
   "name": "python",
   "nbconvert_exporter": "python",
   "pygments_lexer": "ipython3",
   "version": "3.12.4"
  }
 },
 "nbformat": 4,
 "nbformat_minor": 5
}
