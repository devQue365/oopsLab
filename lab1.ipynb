{
 "cells": [
  {
   "cell_type": "code",
   "execution_count": null,
   "metadata": {},
   "outputs": [],
   "source": []
  },
  {
   "cell_type": "code",
   "execution_count": 10,
   "metadata": {},
   "outputs": [
    {
     "name": "stdout",
     "output_type": "stream",
     "text": [
      "Data Types:\n",
      "int_val is of type <class 'int'> and value: 10\n",
      "float_val is of type <class 'float'> and value: 50.03\n",
      "complex_val is of type <class 'complex'> and value: (2+3.4j)\n",
      "str_val is of type <class 'str'> and value: \"hello\"\n",
      "list_val is of type <class 'list'> and value: [10, 50.03, 1, (2+3.4j), 'hello']\n",
      "tuple_val is of type <class 'tuple'> and value: (10, 50.03, 1, (2+3.4j), 'hello')\n",
      "set_val is of type <class 'set'> and value: {1, 2.345, 'hello'}\n",
      "dict_val is of type <class 'dict'> and value: {'emp_id': 110011, 'emp_name': 'Ram Prasad'}\n",
      "bool_val is of type <class 'int'> and value: 1\n",
      "\n",
      "Arithmetic Operations:\n",
      "Addition: 10.45 + 35.87 = 46.31999999999999\n",
      "Subtraction: 10.45 - 35.87 = -25.419999999999998\n",
      "Multiplication: 10.45 * 35.87 = 374.84149999999994\n",
      "Division: 10.45 / 35.87 = 0.2913298020630053\n",
      "Floor Division: 10.45 // 35.87 = 0.0\n",
      "Modulus: 10.45 % 35.87 = 10.45\n",
      "Exponentiation: 10.45 ** 35.87 = 3.595020227818543e+36\n"
     ]
    }
   ],
   "source": [
    "# __main__ segment\n",
    "''' All numeric types '''\n",
    "int_val = 10\n",
    "float_val = 50.03\n",
    "complex_val = 2 + 3.4j\n",
    "bool_val = 1 # subtype of plain int\n",
    "''' characters and strings '''\n",
    "str_val = 'hello'\n",
    "''' Ordered collection types '''\n",
    "list_val = [int_val,float_val,bool_val,complex_val,str_val]\n",
    "tuple_val = (int_val,float_val,bool_val,complex_val,str_val)\n",
    "''' Unordered unique collection types '''\n",
    "set_val = {1,2.345,'hello'}\n",
    "''' Unordered mapping types '''\n",
    "dict_val = {'emp_id':110011,'emp_name':'Ram Prasad'}\n",
    "# Printing the data types\n",
    "print(\"Data Types:\")\n",
    "print(f'int_val is of type {type(int_val)} and value: {int_val}')\n",
    "print(f'float_val is of type {type(float_val)} and value: {float_val}')\n",
    "print(f'complex_val is of type {type(complex_val)} and value: {complex_val}')\n",
    "print(f'str_val is of type {type(str_val)} and value: \"{str_val}\"')\n",
    "print(f'list_val is of type {type(list_val)} and value: {list_val}')\n",
    "print(f'tuple_val is of type {type(tuple_val)} and value: {tuple_val}')\n",
    "print(f'set_val is of type {type(set_val)} and value: {set_val}')\n",
    "print(f'dict_val is of type {type(dict_val)} and value: {dict_val}')\n",
    "print(f'bool_val is of type {type(bool_val)} and value: {bool_val}')\n",
    "\n",
    "# __________________ Arithematic operations __________________\n",
    "num1 = 10.45\n",
    "num2 = 35.87\n",
    "print(\"\\nArithmetic Operations:\")\n",
    "# Addition\n",
    "print(f'Addition: {num1} + {num2} = {num1 + num2}')\n",
    "# Subtraction\n",
    "print(f'Subtraction: {num1} - {num2} = {num1 - num2}')\n",
    "# Multiplication\n",
    "print(f'Multiplication: {num1} * {num2} = {num1 * num2}')\n",
    "# Division\n",
    "print(f'Division: {num1} / {num2} = {num1 / num2}')\n",
    "# Floor Division\n",
    "print(f'Floor Division: {num1} // {num2} = {num1 // num2}')\n",
    "# Modulus\n",
    "print(f'Modulus: {num1} % {num2} = {num1 % num2}')\n",
    "# Exponentiation\n",
    "print(f'Exponentiation: {num1} ** {num2} = {num1 ** num2}')"
   ]
  },
  {
   "cell_type": "code",
   "execution_count": 11,
   "metadata": {},
   "outputs": [
    {
     "name": "stdout",
     "output_type": "stream",
     "text": [
      "Average of the two numbers is 6.00\n",
      "Deviation from first number is 2.00\n",
      "Deviation from second number is -2.00\n"
     ]
    }
   ],
   "source": [
    "# get avg and compute deviation from avg\n",
    "num1 = float(input('Enter first number : '))\n",
    "num2 = float(input('Enter second number : '))\n",
    "avg = (num1 + num2)/2\n",
    "deviation_1 = num1 - avg\n",
    "deviation_2 = num2 - avg\n",
    "# Output: Printing the results\n",
    "print(f\"\\nAverage of {num1} and {num2} is: {avg:.2f}\")\n",
    "print(f\"Deviation of {num1} from average: {deviation_1:.2f}\")\n",
    "print(f\"Deviation of {num2} from average: {deviation_2:.2f}\")"
   ]
  },
  {
   "cell_type": "code",
   "execution_count": 19,
   "metadata": {},
   "outputs": [
    {
     "name": "stdout",
     "output_type": "stream",
     "text": [
      "\n",
      "* * * * * * * BILL * * * * * * *\n",
      "Item Name       Item Quantity   Item Price($)  \n",
      "---------------------------------------------\n",
      "pens            5               20.00          \n",
      "books           10              60.00          \n",
      "---------------------------------------------\n",
      "Total amount to be paid: $700.00\n",
      "* * * * * * * * * * * * * * * * * *\n"
     ]
    }
   ],
   "source": [
    "# Initialize dictionary to store item details\n",
    "items = {'Items': [], 'Quantity': [], 'Price': []}\n",
    "\n",
    "# Input loop to gather item information\n",
    "cmd = input(\"Enter any key to continue or type 'stop' to finish: \")\n",
    "while cmd.lower() != 'stop':\n",
    "    item_name = input('Enter item name: ')\n",
    "    item_quantity = int(input('Enter quantity: '))\n",
    "    item_cost = float(input('Enter price: $'))\n",
    "    \n",
    "    # Append details to the dictionary\n",
    "    items['Items'].append(item_name)\n",
    "    items['Quantity'].append(item_quantity)\n",
    "    items['Price'].append(item_cost)\n",
    "    \n",
    "    # Prompt for next command\n",
    "    cmd = input(\"Enter any key to continue or type 'stop' to finish: \")\n",
    "\n",
    "# Generate the bill\n",
    "print('\\n* * * * * * * BILL * * * * * * *')\n",
    "print(f'{\"Item Name\":<15} {\"Item Quantity\":<15} {\"Item Price($)\":<15}')\n",
    "print('-' * 45)\n",
    "\n",
    "# Initialize total amount\n",
    "amt = 0.0\n",
    "\n",
    "# Loop through items to display and calculate total amount\n",
    "for i in range(len(items['Items'])):\n",
    "    print(f'{items[\"Items\"][i]:<15} {items[\"Quantity\"][i]:<15} {items[\"Price\"][i]:<15.2f}')\n",
    "    amt += items['Quantity'][i] * items['Price'][i]\n",
    "\n",
    "# Print total amount\n",
    "print('-' * 45)\n",
    "print(f'Total amount to be paid: ${amt:.2f}')\n",
    "print('* * * * * * * * * * * * * * * * * *')\n"
   ]
  }
 ],
 "metadata": {
  "kernelspec": {
   "display_name": "Python 3",
   "language": "python",
   "name": "python3"
  },
  "language_info": {
   "codemirror_mode": {
    "name": "ipython",
    "version": 3
   },
   "file_extension": ".py",
   "mimetype": "text/x-python",
   "name": "python",
   "nbconvert_exporter": "python",
   "pygments_lexer": "ipython3",
   "version": "3.12.4"
  }
 },
 "nbformat": 4,
 "nbformat_minor": 2
}
