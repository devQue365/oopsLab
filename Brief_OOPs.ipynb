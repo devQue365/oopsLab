{
 "cells": [
  {
   "cell_type": "code",
   "execution_count": 3,
   "id": "9591f23a-c5fb-4949-ae56-f2ffeb773840",
   "metadata": {},
   "outputs": [
    {
     "name": "stdout",
     "output_type": "stream",
     "text": [
      "<class '__main__.myClass'>\n"
     ]
    }
   ],
   "source": [
    "class myClass:\n",
    "    x = 5\n",
    "print(myClass)\n",
    "    "
   ]
  },
  {
   "cell_type": "code",
   "execution_count": 7,
   "id": "5c723095-50cd-48e1-9ae9-b4b6141486dd",
   "metadata": {},
   "outputs": [
    {
     "name": "stdout",
     "output_type": "stream",
     "text": [
      "5\n"
     ]
    }
   ],
   "source": [
    "class myClass:\n",
    "     x = 5\n",
    "class_obj = myClass()\n",
    "print(class_obj.x)"
   ]
  },
  {
   "cell_type": "markdown",
   "id": "9fe50617-eece-4bc2-8eb0-ee2a85ded7f8",
   "metadata": {},
   "source": [
    "//Understanding __init__() method"
   ]
  },
  {
   "cell_type": "code",
   "execution_count": 13,
   "id": "738c4246-443d-457c-a923-3930d4162eba",
   "metadata": {},
   "outputs": [
    {
     "name": "stdout",
     "output_type": "stream",
     "text": [
      "Name : Krishna, sex : M\n",
      "Name : Radha, sex : F\n"
     ]
    }
   ],
   "source": [
    "# understaning __init__() function\n",
    "class Person:\n",
    "    def __init__(self,name,sex):\n",
    "        self.name = name\n",
    "        self.sex = sex\n",
    "# __main__ segment\n",
    "p0 = Person(\"Krishna\",'M')\n",
    "print(f'Name : {p0.name}, sex : {p0.sex}')\n",
    "p0.name = \"Radha\"\n",
    "p0.sex = 'F'\n",
    "print(f'Name : {p0.name}, sex : {p0.sex}')\n"
   ]
  },
  {
   "cell_type": "markdown",
   "id": "2c979de1-3fdf-4813-8053-3a86f44c5f4a",
   "metadata": {},
   "source": [
    "//Unserstanding __str__() method - 'String representation of class's instance'"
   ]
  },
  {
   "cell_type": "code",
   "execution_count": 19,
   "id": "b667913a-d509-40e5-9bb2-02f3dcd8df37",
   "metadata": {},
   "outputs": [
    {
     "name": "stdout",
     "output_type": "stream",
     "text": [
      "Devansh(20)\n"
     ]
    }
   ],
   "source": [
    "class A:\n",
    "    def __init__(self, name, age):\n",
    "        self.name = name\n",
    "        self.age = age\n",
    "    def __str__(self):\n",
    "        return f'{self.name}({self.age})'\n",
    "# __main__ segment\n",
    "myObj = A('Devansh',20)\n",
    "print(myObj)"
   ]
  },
  {
   "cell_type": "markdown",
   "id": "95f33cff-77d5-476f-bc2e-d000bac6ecfb",
   "metadata": {},
   "source": [
    "//Class Methods\n",
    "Objects can also contain methods. Methods in objects are functions that belong to the object."
   ]
  },
  {
   "cell_type": "code",
   "execution_count": 27,
   "id": "6165c2bc-fe86-4494-a6ea-41ad13972596",
   "metadata": {},
   "outputs": [
    {
     "name": "stdout",
     "output_type": "stream",
     "text": [
      "|< Returning string representation of class >|\n",
      "Dhravesh(10)\n"
     ]
    }
   ],
   "source": [
    "class A:\n",
    "    def __init__(self, name, age):\n",
    "        self.name = name\n",
    "        self.age = age\n",
    "    def __str__(self):\n",
    "        # print(\"class \")\n",
    "        return f'{self.name}({self.age})'\n",
    "    def greet(self):\n",
    "        print(f'Hello {self.name} !')\n",
    "# __main__ segment\n",
    "a0 = A('Dhravesh',10)\n",
    "print(a0)"
   ]
  },
  {
   "cell_type": "markdown",
   "id": "65d72186-261c-4755-a370-d89db8bd5f89",
   "metadata": {},
   "source": [
    "//Self Parameter\n",
    "The self parameter is a reference to the current instance of the class, and is used to access variables that belong to the class.\n",
    "\r\n",
    "It does not have to be named self, you can call it whatever you like, but it has to be the first parameter of any function in the class:"
   ]
  },
  {
   "cell_type": "code",
   "execution_count": 31,
   "id": "c9b23482-4c78-4bc1-aeda-f5740a630d67",
   "metadata": {},
   "outputs": [
    {
     "name": "stdout",
     "output_type": "stream",
     "text": [
      "Ram(26)\n"
     ]
    }
   ],
   "source": [
    "class A:\n",
    "    # In this program, we are giving a different name to the reference to current instance\n",
    "    def __init__(my_self, name, age):\n",
    "        my_self.name = name\n",
    "        my_self.age = age\n",
    "    def __str__(abc):\n",
    "        return f'{abc.name}({abc.age})'\n",
    "# __main__ segment\n",
    "a0 = A('Ram', 26)\n",
    "print(a0)"
   ]
  },
  {
   "cell_type": "markdown",
   "id": "4edc0148-ed78-4d91-a185-69fa1d314386",
   "metadata": {},
   "source": [
    "//Modifyng Object Properties"
   ]
  },
  {
   "cell_type": "code",
   "execution_count": 39,
   "id": "dd742938-cfa9-4421-90dd-11bd8485f5f0",
   "metadata": {},
   "outputs": [
    {
     "name": "stdout",
     "output_type": "stream",
     "text": [
      "Ram Prasad(1001)\n",
      "Shyam Prasad(1002)\n"
     ]
    }
   ],
   "source": [
    "class Employee:\n",
    "    def __init__(self, id, name):\n",
    "        self.id = id\n",
    "        self.name = name\n",
    "    def __str__(self):\n",
    "        return f'{self.name}({self.id})'\n",
    "# __main__ segment\n",
    "e0 = Employee(1001, 'Ram Prasad')\n",
    "print(e0)\n",
    "# *** Modifying Object Properties ***\n",
    "e0.name = 'Shyam Prasad'\n",
    "e0.id = 1002\n",
    "print(e0)"
   ]
  },
  {
   "cell_type": "code",
   "execution_count": null,
   "id": "818d3823-d850-420e-85c5-2ac2ae28a49e",
   "metadata": {},
   "outputs": [],
   "source": []
  }
 ],
 "metadata": {
  "kernelspec": {
   "display_name": "Python 3 (ipykernel)",
   "language": "python",
   "name": "python3"
  },
  "language_info": {
   "codemirror_mode": {
    "name": "ipython",
    "version": 3
   },
   "file_extension": ".py",
   "mimetype": "text/x-python",
   "name": "python",
   "nbconvert_exporter": "python",
   "pygments_lexer": "ipython3",
   "version": "3.12.4"
  }
 },
 "nbformat": 4,
 "nbformat_minor": 5
}
