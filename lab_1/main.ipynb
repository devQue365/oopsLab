num1 = float(input('Enter first number : '))
num2 = float(input('Enter second number : '))
avg = (num1 + num2)/2
deviation_1 = num1 - avg
deviation_2 = num2 - avg
print(f'Average of the two numbers is {avg:.2f}')
print(f'Deviation from first number is {deviation_1:.2f}')
print(f'Deviation from second number is {deviation_2:.2f}')

