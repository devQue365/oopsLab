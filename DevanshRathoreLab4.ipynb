{
 "cells": [
  {
   "cell_type": "code",
   "execution_count": 15,
   "id": "c0d72893-c545-41ba-ba47-3252f22fb75f",
   "metadata": {},
   "outputs": [
    {
     "name": "stdout",
     "output_type": "stream",
     "text": [
      "Enter a number :  175\n"
     ]
    },
    {
     "name": "stdout",
     "output_type": "stream",
     "text": [
      "3\n",
      "The number is a disarium number !\n"
     ]
    }
   ],
   "source": [
    "# here we have to check whether a number is a disarium number or not\n",
    "def countDigits(n):\n",
    "    count = 0\n",
    "    while(n!=0):\n",
    "        count+=1\n",
    "        n//=10\n",
    "    return count\n",
    "def isDisarium(n):\n",
    "    max_pow = countDigits(n)\n",
    "    temp=n\n",
    "    sum = 0\n",
    "    print(max_pow)\n",
    "    while(temp!=0):\n",
    "        sum+=((temp%10)**max_pow)\n",
    "        max_pow-=1\n",
    "        temp//=10\n",
    "    if(sum==n):\n",
    "        return True\n",
    "    return False\n",
    "\n",
    "n = int(input('Enter a number : '))\n",
    "if(isDisarium(n)):\n",
    "    print(\"The number is a disarium number !\")\n",
    "else:\n",
    "    print(\"The number is not a disarium number !\")\n",
    "        \n",
    "        "
   ]
  },
  {
   "cell_type": "code",
   "execution_count": 21,
   "id": "badfedbc-75b5-4bbe-8200-bce44dc8ba9a",
   "metadata": {},
   "outputs": [
    {
     "name": "stdout",
     "output_type": "stream",
     "text": [
      "The number is a harshad number !\n",
      "The number is a harshad number !\n",
      "The number is a harshad number !\n",
      "The number is a harshad number !\n",
      "The number is a harshad number !\n",
      "The number is a harshad number !\n"
     ]
    }
   ],
   "source": [
    "# here we have to find if a given number is a harshad number\n",
    "''' harshad number --> if a number is divisible by the sum of its digits '''\n",
    "def isHarshad(n):\n",
    "    sum = 0\n",
    "    def sumDigits(n):\n",
    "        nonlocal sum\n",
    "        while(n!=0):\n",
    "            sum+=(n%10)\n",
    "            n//=10\n",
    "    sumDigits(n)\n",
    "    if(n%sum==0):\n",
    "        return True\n",
    "    return False\n",
    "\n",
    "# n = int(input('Enter a number : '))\n",
    "test_cases = [108, 153, 378, 2620, 2924, 6804]\n",
    "for i in test_cases:\n",
    "    if(isHarshad(i)):\n",
    "        print(\"The number is a harshad number !\")\n",
    "    else:\n",
    "        print(\"The number is not a harshad number !\")\n",
    "            \n",
    "    "
   ]
  },
  {
   "cell_type": "code",
   "execution_count": 23,
   "id": "42a84e55-c62d-4077-beb3-1e4acc70eec8",
   "metadata": {},
   "outputs": [
    {
     "name": "stdout",
     "output_type": "stream",
     "text": [
      "1 is a armstrong number !\n",
      "2 is a armstrong number !\n",
      "3 is a armstrong number !\n",
      "4 is a armstrong number !\n",
      "5 is a armstrong number !\n",
      "6 is a armstrong number !\n",
      "7 is a armstrong number !\n",
      "8 is a armstrong number !\n",
      "9 is a armstrong number !\n",
      "153 is a armstrong number !\n",
      "370 is a armstrong number !\n",
      "371 is a armstrong number !\n",
      "407 is a armstrong number !\n"
     ]
    }
   ],
   "source": [
    "# here we have to print armstrong numbers from 1 to 100\n",
    "\n",
    "def isArmstrong(n):\n",
    "    max_pow = 0\n",
    "    sum = 0\n",
    "    temp = n\n",
    "    def countDigits(n):\n",
    "        nonlocal max_pow\n",
    "        while(n!=0):\n",
    "            max_pow+=1\n",
    "            n//=10\n",
    "    countDigits(n)\n",
    "    while(n!=0):\n",
    "        sum+=((n%10)**max_pow)\n",
    "        n//=10\n",
    "    if(sum==temp):\n",
    "        return True\n",
    "    return False\n",
    "\n",
    "def printArmstrong(start=1,end=1000):\n",
    "    for i in range(start,end+1):\n",
    "        if(isArmstrong(i)):\n",
    "            print(i,\"is a armstrong number !\")\n",
    "\n",
    "printArmstrong()\n",
    "    "
   ]
  },
  {
   "cell_type": "code",
   "execution_count": 27,
   "id": "9667336b-1ce0-43d3-b05c-3abcc3bd2da4",
   "metadata": {},
   "outputs": [
    {
     "name": "stdout",
     "output_type": "stream",
     "text": [
      "1\n",
      "4\n",
      "27\n",
      "256\n",
      "3125\n",
      "46656\n",
      "823543\n",
      "16777216\n",
      "387420489\n",
      "10000000000\n"
     ]
    }
   ],
   "source": [
    "# here we have to compute the value of x^n\n",
    "def computePower(arg_1,arg_2):\n",
    "    return arg_1 ** arg_2\n",
    "\n",
    "for i in range(1,11):\n",
    "    print(computePower(i,i))\n",
    "\n",
    "    "
   ]
  },
  {
   "cell_type": "code",
   "execution_count": 39,
   "id": "42340e38-625e-4f8e-b3a9-05d7a0270e32",
   "metadata": {},
   "outputs": [
    {
     "name": "stdout",
     "output_type": "stream",
     "text": [
      "Enter n :  5\n",
      "Enter r :  2\n"
     ]
    },
    {
     "name": "stdout",
     "output_type": "stream",
     "text": [
      "5C2 = 10.0\n"
     ]
    }
   ],
   "source": [
    "# here we have to compute the nCr combination method\n",
    "def factorial(n):\n",
    "    # base case\n",
    "    if(n==0 or n==1):\n",
    "        return 1\n",
    "    else:\n",
    "        return n * factorial(n-1)\n",
    "def nCr(n0,r0):\n",
    "    if(r0==n0 or r0==0):\n",
    "        return 1\n",
    "    elif(r0==1):\n",
    "        return n0\n",
    "    else:\n",
    "        return factorial(n0)/(factorial(r0) * factorial(n0-r0))\n",
    "\n",
    "n = int(input('Enter n : '))\n",
    "r = int(input('Enter r : '))\n",
    "print(n,'C',r,' = ',nCr(n,r),sep='')\n",
    "        "
   ]
  },
  {
   "cell_type": "code",
   "execution_count": null,
   "id": "0831ed6f",
   "metadata": {},
   "outputs": [],
   "source": [
    "def printFibonacci(n,preTerm=0,postTerm=1):\n",
    "    if(n==1):\n",
    "        print(preTerm,sep=' ',end=' ')\n",
    "    else:\n",
    "        print(preTerm,sep=' ',end=' ')\n",
    "        temp = postTerm\n",
    "        postTerm+=preTerm\n",
    "        preTerm = temp\n",
    "        printFibonacci(n-1,preTerm,postTerm)\n",
    "printFibonacci(10)    "
   ]
  },
  {
   "cell_type": "code",
   "execution_count": 1,
   "id": "00a10789",
   "metadata": {},
   "outputs": [
    {
     "name": "stdout",
     "output_type": "stream",
     "text": [
      "The sum of the digits of this number is 6\n"
     ]
    }
   ],
   "source": [
    "# here we have to calculate the sum of the digits of the number entered by the user\n",
    "def sum_of_digits(num):\n",
    "    total = 0\n",
    "    def getDigits(num):\n",
    "        while(num!=0):\n",
    "            yield (num%10)\n",
    "            num//=10\n",
    "    for i in getDigits(num):\n",
    "        total+=i\n",
    "    return total\n",
    "#__main__ segment\n",
    "n = int(input('Enter a number : '))\n",
    "print('The sum of the digits of this number is',sum_of_digits(n))"
   ]
  },
  {
   "cell_type": "code",
   "execution_count": 2,
   "id": "13da2b04",
   "metadata": {},
   "outputs": [
    {
     "name": "stdout",
     "output_type": "stream",
     "text": [
      "Reversed integer : 2341\n"
     ]
    }
   ],
   "source": [
    "# here we have to print the reverse of a number\n",
    "def reverse_number(num):\n",
    "    rev = 0\n",
    "    while(num!=0):\n",
    "        rev = rev * 10 + (num%10)\n",
    "        num//=10\n",
    "    return rev\n",
    "#__main__ segment\n",
    "if(__name__ == '__main__'):\n",
    "    n = int(input('Enter an integer : '))\n",
    "    print(f'Reversed integer : {reverse_number(n)}')"
   ]
  },
  {
   "cell_type": "code",
   "execution_count": 6,
   "id": "e6f7bda4",
   "metadata": {},
   "outputs": [
    {
     "name": "stdout",
     "output_type": "stream",
     "text": [
      "6\n",
      "28\n",
      "496\n",
      "8128\n",
      "Program terminated successfuly !\n"
     ]
    }
   ],
   "source": [
    "# here we have to check if a number is a perfect number or not\n",
    "def isPerfect(num):\n",
    "    if(num==0 or num==1):\n",
    "        return False\n",
    "    total = 0\n",
    "    def getFactors(num):\n",
    "        for i in range(1,num//2 + 1):\n",
    "            if(num%i==0):\n",
    "                yield i\n",
    "    for i in getFactors(num):\n",
    "        total+=i\n",
    "    if(total == num):\n",
    "        return True\n",
    "    return False\n",
    "#__main__ segment\n",
    "n = int(input('Enter a range : '))\n",
    "count = 0\n",
    "i = 0\n",
    "while(count<n):\n",
    "    if(isPerfect(i)):\n",
    "        print(i)\n",
    "        count+=1\n",
    "    i+=1\n",
    "else:\n",
    "    print('Program terminated successfuly !')\n",
    "    \n",
    "        "
   ]
  },
  {
   "cell_type": "code",
   "execution_count": 9,
   "id": "5623f42b",
   "metadata": {},
   "outputs": [
    {
     "name": "stdout",
     "output_type": "stream",
     "text": [
      "No\n",
      "Yes\n",
      "Yes\n",
      "No\n",
      "Yes\n",
      "Yes\n"
     ]
    },
    {
     "ename": "ValueError",
     "evalue": "invalid literal for int() with base 10: ''",
     "output_type": "error",
     "traceback": [
      "\u001b[1;31m---------------------------------------------------------------------------\u001b[0m",
      "\u001b[1;31mValueError\u001b[0m                                Traceback (most recent call last)",
      "Cell \u001b[1;32mIn[9], line 14\u001b[0m\n\u001b[0;32m     12\u001b[0m \u001b[38;5;66;03m#__main__ segment\u001b[39;00m\n\u001b[0;32m     13\u001b[0m \u001b[38;5;28;01mwhile\u001b[39;00m(\u001b[38;5;28;01mTrue\u001b[39;00m):\n\u001b[1;32m---> 14\u001b[0m     n \u001b[38;5;241m=\u001b[39m \u001b[38;5;28;43mint\u001b[39;49m\u001b[43m(\u001b[49m\u001b[38;5;28;43minput\u001b[39;49m\u001b[43m(\u001b[49m\u001b[38;5;124;43m'\u001b[39;49m\u001b[38;5;124;43mEnter a number : \u001b[39;49m\u001b[38;5;124;43m'\u001b[39;49m\u001b[43m)\u001b[49m\u001b[43m)\u001b[49m\n\u001b[0;32m     15\u001b[0m     \u001b[38;5;28;01mif\u001b[39;00m(isPalindrome(n)):\n\u001b[0;32m     16\u001b[0m         \u001b[38;5;28mprint\u001b[39m(\u001b[38;5;124m'\u001b[39m\u001b[38;5;124mYes\u001b[39m\u001b[38;5;124m'\u001b[39m)\n",
      "\u001b[1;31mValueError\u001b[0m: invalid literal for int() with base 10: ''"
     ]
    }
   ],
   "source": [
    "# here we have to check whether a number is palindrome or not\n",
    "def isPalindrome(num):\n",
    "    def reverse_num(num):\n",
    "        rev = 0\n",
    "        while(num!=0):\n",
    "            rev = rev * 10 + (num%10)\n",
    "            num//=10\n",
    "        return rev\n",
    "    if(reverse_num(num) == num):\n",
    "        return True\n",
    "    return False\n",
    "#__main__ segment\n",
    "while(True):\n",
    "    n = int(input('Enter a number : '))\n",
    "    if(isPalindrome(n)):\n",
    "        print('Yes')\n",
    "    else:\n",
    "        print('No')\n",
    "    \n",
    "        \n",
    "    \n",
    "    "
   ]
  },
  {
   "cell_type": "code",
   "execution_count": 33,
   "id": "5e0d8dc2",
   "metadata": {},
   "outputs": [
    {
     "name": "stdout",
     "output_type": "stream",
     "text": [
      "1 \n",
      "1 2 \n",
      "1 2 3 \n",
      "1 2 3 4 \n",
      "1 2 3 4 5 \n"
     ]
    }
   ],
   "source": [
    "# pattern - 1\n",
    "#__main__ segment\n",
    "'''\n",
    "1\n",
    "1 2\n",
    "1 2 3\n",
    "1 2 3 4\n",
    "... so on\n",
    "'''\n",
    "if(__name__ == '__main__'):\n",
    "    n = int(input('Enter n : '))\n",
    "    for i in range(n):\n",
    "        for j in range(i+1):\n",
    "            # if(j<=i):\n",
    "            print(j+1,end=' ')\n",
    "        print()"
   ]
  },
  {
   "cell_type": "code",
   "execution_count": null,
   "id": "0b1a1c06",
   "metadata": {},
   "outputs": [],
   "source": []
  },
  {
   "cell_type": "code",
   "execution_count": 15,
   "id": "3ec1e937",
   "metadata": {},
   "outputs": [
    {
     "name": "stdout",
     "output_type": "stream",
     "text": [
      "1 \n",
      "2 2 \n",
      "3 3 3 \n",
      "4 4 4 4 \n",
      "5 5 5 5 5 \n"
     ]
    }
   ],
   "source": [
    "# pattern - 2\n",
    "#__main__ segment\n",
    "'''\n",
    "1\n",
    "2 2 \n",
    "3 3 3\n",
    "4 4 4 4\n",
    "... so on\n",
    "'''\n",
    "if(__name__ == '__main__'):\n",
    "    n = int(input('Enter n : '))\n",
    "    for i in range(n):\n",
    "        for j in range(n):\n",
    "            if(j<=i):\n",
    "                print(i+1,end=' ')\n",
    "        print()"
   ]
  },
  {
   "cell_type": "code",
   "execution_count": 18,
   "id": "5b6545de",
   "metadata": {},
   "outputs": [
    {
     "name": "stdout",
     "output_type": "stream",
     "text": [
      "A \n",
      "B B \n",
      "C C C \n",
      "D D D D \n",
      "E E E E E \n",
      "F F F F F F \n",
      "G G G G G G G \n",
      "H H H H H H H H \n",
      "I I I I I I I I I \n",
      "J J J J J J J J J J \n",
      "K K K K K K K K K K K \n",
      "L L L L L L L L L L L L \n",
      "M M M M M M M M M M M M M \n",
      "N N N N N N N N N N N N N N \n",
      "O O O O O O O O O O O O O O O \n",
      "P P P P P P P P P P P P P P P P \n",
      "Q Q Q Q Q Q Q Q Q Q Q Q Q Q Q Q Q \n",
      "R R R R R R R R R R R R R R R R R R \n",
      "S S S S S S S S S S S S S S S S S S S \n",
      "T T T T T T T T T T T T T T T T T T T T \n",
      "U U U U U U U U U U U U U U U U U U U U U \n",
      "V V V V V V V V V V V V V V V V V V V V V V \n",
      "W W W W W W W W W W W W W W W W W W W W W W W \n",
      "X X X X X X X X X X X X X X X X X X X X X X X X \n",
      "Y Y Y Y Y Y Y Y Y Y Y Y Y Y Y Y Y Y Y Y Y Y Y Y Y \n",
      "Z Z Z Z Z Z Z Z Z Z Z Z Z Z Z Z Z Z Z Z Z Z Z Z Z Z \n"
     ]
    }
   ],
   "source": [
    "# pattern - 3\n",
    "#__main__ segment\n",
    "'''\n",
    "A\n",
    "B B\n",
    "C C C\n",
    "D D D D\n",
    "E E E E E\n",
    "... so on\n",
    "'''\n",
    "if(__name__ == '__main__'):\n",
    "    ch = 65\n",
    "    n = int(input('Enter n : '))\n",
    "    for i in range(n):\n",
    "        for j in range(n):\n",
    "            if(j<=i):\n",
    "                print(chr(ch),end=' ')\n",
    "        print()\n",
    "        ch+=1\n",
    "                "
   ]
  },
  {
   "cell_type": "code",
   "execution_count": 20,
   "id": "9c699d3a",
   "metadata": {},
   "outputs": [
    {
     "name": "stdout",
     "output_type": "stream",
     "text": [
      "* \n",
      "* * \n",
      "* * * \n",
      "* * * * \n",
      "* * * * * \n"
     ]
    }
   ],
   "source": [
    "# pattern - 4\n",
    "#__main__ segment\n",
    "'''\n",
    "* * * * \n",
    "* * *\n",
    "* * \n",
    "*\n",
    "'''\n",
    "if(__name__ == '__main__'):\n",
    "    n = int(input('Enter n : '))\n",
    "    for i in range(n):\n",
    "        for j in range(n):\n",
    "            if(j<=i):\n",
    "                print('*',end=' ')\n",
    "        print()\n",
    "    "
   ]
  },
  {
   "cell_type": "code",
   "execution_count": 22,
   "id": "33c771d7",
   "metadata": {},
   "outputs": [
    {
     "name": "stdout",
     "output_type": "stream",
     "text": [
      "1 2 3 4 5 \n",
      "1 2 3 4 \n",
      "1 2 3 \n",
      "1 2 \n",
      "1 \n"
     ]
    }
   ],
   "source": [
    "# pattern - 5\n",
    "#__main__ segment\n",
    "'''\n",
    "1 2 3 4 5\n",
    "1 2 3 4\n",
    "1 2 3\n",
    "1 2\n",
    "1\n",
    "'''\n",
    "if(__name__ == '__main__'):\n",
    "    n = int(input('Enter n : '))\n",
    "    for i in range(n):\n",
    "        for j in range(n):\n",
    "            if(j<=n-i-1):\n",
    "                print(j+1,end = ' ')\n",
    "        print()"
   ]
  },
  {
   "cell_type": "code",
   "execution_count": 32,
   "id": "5a80a169",
   "metadata": {},
   "outputs": [
    {
     "name": "stdout",
     "output_type": "stream",
     "text": [
      "         *\n",
      "        ***\n",
      "       *****\n",
      "      *******\n",
      "     *********\n",
      "    ***********\n",
      "   *************\n",
      "  ***************\n",
      " *****************\n",
      "*******************\n"
     ]
    }
   ],
   "source": [
    "# pattern - 6\n",
    "#__main__ segment\n",
    "'''\n",
    "     *\n",
    "    ***\n",
    "   *****\n",
    "  *******\n",
    "'''\n",
    "if(__name__ == '__main__'):\n",
    "    # here the pattern is a combination of two patterns\n",
    "    n = int(input('Enter n : '))\n",
    "    ' First pattern '\n",
    "    # print the spaces\n",
    "    for i in range(n):\n",
    "        total_spaces = n-i-1\n",
    "        print(' '*total_spaces,end='')\n",
    "        for j in range(i+1):\n",
    "            print('*',end='')\n",
    "        for k in range(i):\n",
    "            print('*',end='')\n",
    "        print()\n",
    "        \n",
    "    "
   ]
  },
  {
   "cell_type": "code",
   "execution_count": 18,
   "id": "c164f2f1",
   "metadata": {},
   "outputs": [
    {
     "name": "stdout",
     "output_type": "stream",
     "text": [
      "   1\n",
      "  232\n",
      " 34543\n",
      "4567654\n"
     ]
    }
   ],
   "source": [
    "n = int(input('Enter n : '))\n",
    "for i in range(n):\n",
    "    sp = n-i-1\n",
    "    print(' '*sp,end='')\n",
    "    # 1st half \n",
    "    count = i+1\n",
    "    for j in range(i+1):\n",
    "        print(count,end='')\n",
    "        count+=1\n",
    "    # 2nd half\n",
    "    count-=2\n",
    "    for k in range(i):\n",
    "        print(count,end='')\n",
    "        count-=1\n",
    "    print()"
   ]
  },
  {
   "cell_type": "code",
   "execution_count": 25,
   "id": "5dcef459",
   "metadata": {},
   "outputs": [
    {
     "name": "stdout",
     "output_type": "stream",
     "text": [
      "*******\n",
      " *****\n",
      "  ***\n",
      "   *\n"
     ]
    }
   ],
   "source": [
    "n = int(input('Enter n : '))\n",
    "for i in range(n):\n",
    "    # print spaces\n",
    "    sp = i\n",
    "    print(' '*sp,end='')\n",
    "    for j in range(2*(n-i)-1):\n",
    "        print('*',end='')\n",
    "    print()\n",
    "    "
   ]
  },
  {
   "cell_type": "code",
   "execution_count": 27,
   "id": "6ec63e97",
   "metadata": {},
   "outputs": [
    {
     "name": "stdout",
     "output_type": "stream",
     "text": [
      "1 \n",
      "1 1 \n",
      "1 2 1 \n",
      "1 3 3 1 \n"
     ]
    }
   ],
   "source": [
    "from math import *\n",
    "# print pascals triangle\n",
    "n = int(input('Enter n : '))\n",
    "for i in range(n):\n",
    "    for j in range(i+1):\n",
    "        print(factorial(i)//(factorial(j) * factorial(i-j)),end = ' ')\n",
    "    print()\n",
    "    \n",
    "    "
   ]
  },
  {
   "cell_type": "code",
   "execution_count": 29,
   "id": "d209e924",
   "metadata": {},
   "outputs": [
    {
     "name": "stdout",
     "output_type": "stream",
     "text": [
      "1 \n",
      "2 3 \n",
      "4 5 6 \n",
      "7 8 9 10 \n"
     ]
    }
   ],
   "source": [
    "n = int(input('Enter n : '))\n",
    "count = 1\n",
    "for i in range(n):\n",
    "    for j in range(i+1):\n",
    "        print(count,end=' ')\n",
    "        count+=1\n",
    "    print()"
   ]
  },
  {
   "cell_type": "code",
   "execution_count": 35,
   "id": "bb1e20ce",
   "metadata": {},
   "outputs": [
    {
     "name": "stdout",
     "output_type": "stream",
     "text": [
      "A \n",
      "B A B \n",
      "A B A B A \n",
      "B A B A B A B \n"
     ]
    }
   ],
   "source": [
    "'''\n",
    "A\n",
    "B A B\n",
    "A B A B A\n",
    "B A B A B A B\n",
    "'''\n",
    "n = int(input('Enter n : '))\n",
    "for i in range(n):\n",
    "    for j in range(2*i + 1):\n",
    "        if((i+j)%2==0):\n",
    "            print('A',end=' ')\n",
    "        else:\n",
    "            print('B',end=' ')\n",
    "    print()\n",
    "        "
   ]
  },
  {
   "cell_type": "code",
   "execution_count": 36,
   "id": "5e9cd2e5",
   "metadata": {},
   "outputs": [
    {
     "name": "stdout",
     "output_type": "stream",
     "text": [
      "1 \n",
      "0 1 0 \n",
      "1 0 1 0 1 \n",
      "0 1 0 1 0 1 0 \n"
     ]
    }
   ],
   "source": [
    "'''\n",
    "1\n",
    "0 1 0\n",
    "1 0 1 0 1\n",
    "0 1 0 1 0 1 0\n",
    "'''\n",
    "n = int(input('Enter n : '))\n",
    "for i in range(n):\n",
    "    for j in range(2*i+1):\n",
    "        if((i+j)%2==0):\n",
    "            print(1,end=' ')\n",
    "        else:\n",
    "            print(0,end=' ')\n",
    "    print()"
   ]
  }
 ],
 "metadata": {
  "kernelspec": {
   "display_name": "Python 3",
   "language": "python",
   "name": "python3"
  },
  "language_info": {
   "codemirror_mode": {
    "name": "ipython",
    "version": 3
   },
   "file_extension": ".py",
   "mimetype": "text/x-python",
   "name": "python",
   "nbconvert_exporter": "python",
   "pygments_lexer": "ipython3",
   "version": "3.12.4"
  }
 },
 "nbformat": 4,
 "nbformat_minor": 5
}
