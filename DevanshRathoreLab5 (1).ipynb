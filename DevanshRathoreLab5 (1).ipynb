{
 "cells": [
  {
   "cell_type": "code",
   "execution_count": 1,
   "id": "309dba43-e44e-4617-b9e8-171e45acec7e",
   "metadata": {},
   "outputs": [
    {
     "name": "stdin",
     "output_type": "stream",
     "text": [
      "Enter a list :  [1,2,3,4,5]\n"
     ]
    },
    {
     "name": "stdout",
     "output_type": "stream",
     "text": [
      "[3, 6, 9, 12, 15]\n"
     ]
    }
   ],
   "source": [
    "def tripple(i):\n",
    "    return i*3\n",
    "#__main__ segment\n",
    "my_list = eval(input('Enter a list : ')) \n",
    "my_list = list(map(tripple,my_list))\n",
    "print(my_list)"
   ]
  },
  {
   "cell_type": "code",
   "execution_count": 5,
   "id": "d6f3c111-a556-4797-84e5-10a13edf5b90",
   "metadata": {},
   "outputs": [
    {
     "name": "stdout",
     "output_type": "stream",
     "text": [
      "[12, 15, 18]\n"
     ]
    }
   ],
   "source": [
    "# __main__ segment\n",
    "l1 = [1,2,3]\n",
    "l2 = [4,5,6]\n",
    "l3 = [7,8,9]\n",
    "res_list = list(map(lambda x,y,z: x+y+z,l1,l2,l3))\n",
    "print(res_list)"
   ]
  },
  {
   "cell_type": "code",
   "execution_count": 7,
   "id": "5f346ddc-baff-45fb-a01f-a608f2000aef",
   "metadata": {},
   "outputs": [
    {
     "name": "stdout",
     "output_type": "stream",
     "text": [
      "Original list : ['red', 'blue', 'green']\n",
      "New list : [['r', 'e', 'd'], ['b', 'l', 'u', 'e'], ['g', 'r', 'e', 'e', 'n']]\n"
     ]
    }
   ],
   "source": [
    "#__main__ segment\n",
    "l1 = ['red','blue','green']\n",
    "new_list = list(map(list,l1))\n",
    "print(f'Original list : {l1}')\n",
    "print(f'New list : {new_list}')"
   ]
  },
  {
   "cell_type": "code",
   "execution_count": 11,
   "id": "4a617064-0a9e-4f4a-b315-b04f425b14a1",
   "metadata": {},
   "outputs": [
    {
     "name": "stdin",
     "output_type": "stream",
     "text": [
      "Enter length of list :  3\n",
      "Enter base value :  1\n",
      "Enter base value :  2\n",
      "Enter base value :  3\n"
     ]
    },
    {
     "name": "stdout",
     "output_type": "stream",
     "text": [
      "Original list : [1, 2, 3]\n",
      "Mapped list : [1, 2, 9]\n"
     ]
    }
   ],
   "source": [
    "#__main__ segment\n",
    "n = int(input('Enter length of list : '))\n",
    "bases = [int(input('Enter base value : ')) for i in range(n)]\n",
    "print(f'Original list : {bases}')\n",
    "bases = list(map(lambda base,index: base ** index,bases,range(n)))\n",
    "print(f'Mapped list : {bases}')"
   ]
  },
  {
   "cell_type": "code",
   "execution_count": 13,
   "id": "60dcc33c-4c5f-4415-ab82-968519a81879",
   "metadata": {},
   "outputs": [
    {
     "name": "stdin",
     "output_type": "stream",
     "text": [
      "Enter a list :  [1,2,3,4,5]\n"
     ]
    },
    {
     "name": "stdout",
     "output_type": "stream",
     "text": [
      "Original list : [1, 2, 3, 4, 5]\n",
      "Mapped list : [1, 4, 9, 16, 25]\n"
     ]
    }
   ],
   "source": [
    "#__main__ segment\n",
    "my_list = eval(input('Enter a list : '))\n",
    "print(f'Original list : {my_list}')\n",
    "squared_list = list(map(lambda x: x**2,my_list))\n",
    "print(f'Mapped list : {squared_list}')"
   ]
  },
  {
   "cell_type": "code",
   "execution_count": 19,
   "id": "66d2b4c2-bd36-4f23-bf5b-6eae6e7c713c",
   "metadata": {},
   "outputs": [
    {
     "name": "stdout",
     "output_type": "stream",
     "text": [
      "Upper cased : EOWRDLH\n",
      "Lower cased : eowrdlh\n"
     ]
    }
   ],
   "source": [
    "#__main__ segment\n",
    "my_string = 'HelloWorld'\n",
    "''' convert the seq to set to remove duplicate elements '''\n",
    "mySet = set(my_string)\n",
    "upper_case = ''.join(list(map(lambda x:x.upper(),mySet)))\n",
    "lower_case = ''.join(list(map(lambda x:x.lower(),mySet)))\n",
    "print(f'Upper cased : {upper_case}')\n",
    "print(f'Lower cased : {lower_case}')\n"
   ]
  },
  {
   "cell_type": "code",
   "execution_count": null,
   "id": "be8704c0-a4bb-4b04-93ba-fc9661da9a88",
   "metadata": {},
   "outputs": [],
   "source": []
  }
 ],
 "metadata": {
  "kernelspec": {
   "display_name": "Python 3 (ipykernel)",
   "language": "python",
   "name": "python3"
  },
  "language_info": {
   "codemirror_mode": {
    "name": "ipython",
    "version": 3
   },
   "file_extension": ".py",
   "mimetype": "text/x-python",
   "name": "python",
   "nbconvert_exporter": "python",
   "pygments_lexer": "ipython3",
   "version": "3.12.4"
  }
 },
 "nbformat": 4,
 "nbformat_minor": 5
}
